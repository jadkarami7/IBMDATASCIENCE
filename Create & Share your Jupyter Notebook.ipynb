{
 "cells": [
  {
   "cell_type": "markdown",
   "id": "6a85ba87",
   "metadata": {},
   "source": [
    "# Data Science Tools and Ecosystem"
   ]
  },
  {
   "cell_type": "markdown",
   "id": "4723379c",
   "metadata": {},
   "source": [
    "## Author Name :\n",
    "Jad Karami"
   ]
  },
  {
   "cell_type": "markdown",
   "id": "9915283f",
   "metadata": {},
   "source": [
    "In this notebook, Data Science Tools and Ecosystem are summarized."
   ]
  },
  {
   "cell_type": "markdown",
   "id": "547707b1",
   "metadata": {},
   "source": [
    "#### Objectives ( 3 items covered in this notebook)\n",
    "* Common languages used in programming\n",
    "\n",
    "* Some Data Science Tools\n",
    "\n",
    "* Arithmetic expressions"
   ]
  },
  {
   "cell_type": "markdown",
   "id": "c6949a32",
   "metadata": {},
   "source": [
    "Here a few common languages used in programming:\n",
    "\n",
    "   1- Python\n",
    "   \n",
    "   2- R\n",
    "   \n",
    "   3- Java\n",
    "   \n",
    "   4- HTML"
   ]
  },
  {
   "cell_type": "markdown",
   "id": "60c96e90",
   "metadata": {},
   "source": [
    "Here a few common languages used in data science:\n",
    "\n",
    "1- Pandas\n",
    "\n",
    "2- Numpy\n",
    "\n",
    "3- Seaborn\n"
   ]
  },
  {
   "cell_type": "markdown",
   "id": "050122aa",
   "metadata": {},
   "source": [
    "| Data Science Tools |\n",
    "| --- |\n",
    "| Jupyter Notebook |\n",
    "| R Studio |\n",
    "| Spyder |"
   ]
  },
  {
   "cell_type": "markdown",
   "id": "8b11817c",
   "metadata": {},
   "source": [
    "### Below are a few examples of evaluating arithmetic expressions in Python."
   ]
  },
  {
   "cell_type": "code",
   "execution_count": 13,
   "id": "fd05affa",
   "metadata": {},
   "outputs": [
    {
     "data": {
      "text/plain": [
       "17"
      ]
     },
     "execution_count": 13,
     "metadata": {},
     "output_type": "execute_result"
    }
   ],
   "source": [
    "# This a simple arithmetic expression to mutiply then add integers\n",
    "(3*4)+5"
   ]
  },
  {
   "cell_type": "code",
   "execution_count": 14,
   "id": "604f2872",
   "metadata": {},
   "outputs": [
    {
     "data": {
      "text/plain": [
       "3.3333333333333335"
      ]
     },
     "execution_count": 14,
     "metadata": {},
     "output_type": "execute_result"
    }
   ],
   "source": [
    "# This will convert 200 minutes to hours by diving by 60\n",
    "200/60"
   ]
  },
  {
   "cell_type": "code",
   "execution_count": null,
   "id": "ce9f68bf",
   "metadata": {},
   "outputs": [],
   "source": []
  }
 ],
 "metadata": {
  "kernelspec": {
   "display_name": "Python 3 (ipykernel)",
   "language": "python",
   "name": "python3"
  },
  "language_info": {
   "codemirror_mode": {
    "name": "ipython",
    "version": 3
   },
   "file_extension": ".py",
   "mimetype": "text/x-python",
   "name": "python",
   "nbconvert_exporter": "python",
   "pygments_lexer": "ipython3",
   "version": "3.9.13"
  }
 },
 "nbformat": 4,
 "nbformat_minor": 5
}
